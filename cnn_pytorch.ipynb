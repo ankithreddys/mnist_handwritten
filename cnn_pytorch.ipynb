{
 "cells": [
  {
   "attachments": {},
   "cell_type": "markdown",
   "metadata": {},
   "source": [
    "***IMPORTING REQUIRED LIBRARIES***"
   ]
  },
  {
   "cell_type": "code",
   "execution_count": 1,
   "metadata": {},
   "outputs": [],
   "source": [
    "import torch\n",
    "import torchvision\n",
    "import torchvision.transforms as transforms\n",
    "import torch.optim as optim\n",
    "import torch.nn as nn"
   ]
  },
  {
   "attachments": {},
   "cell_type": "markdown",
   "metadata": {},
   "source": [
    "**SELECTING GPU OR CPU FOR COMPUTATIONS**"
   ]
  },
  {
   "cell_type": "code",
   "execution_count": 2,
   "metadata": {},
   "outputs": [],
   "source": [
    "if torch.cuda.is_available():\n",
    "  device = 'cuda' \n",
    "else:\n",
    "  device = 'cpu' "
   ]
  },
  {
   "attachments": {},
   "cell_type": "markdown",
   "metadata": {},
   "source": [
    "***transformes for grey scale images***\n",
    "\n",
    "**```transforms.ToTensor()``` to convert into pytorch tensors**\n",
    "\n",
    "**```transforms.Normalize((0.5,),(0.5))``` is to normalize**\n",
    "\n",
    "**for RGB the parameters vary as ```transformed.Normalize((0.5, 0.5, 0.5), (0.5, 0.5, 0.5))```**\n",
    "\n",
    "**transformes are applied only when DataLoader is applied**"
   ]
  },
  {
   "cell_type": "code",
   "execution_count": 3,
   "metadata": {},
   "outputs": [],
   "source": [
    "transform = transforms.Compose([transforms.ToTensor(),transforms.Normalize((0.5,),(0.5))])"
   ]
  },
  {
   "attachments": {},
   "cell_type": "markdown",
   "metadata": {},
   "source": [
    "### ```torchvision.datasets``` to download mnist dataset ###"
   ]
  },
  {
   "cell_type": "code",
   "execution_count": 4,
   "metadata": {},
   "outputs": [],
   "source": [
    "train_ds = torchvision.datasets.MNIST('mnist',train=True,transform=transform,download=True)\n",
    "test_ds = torchvision.datasets.MNIST('mnist',train=False,transform=transform,download=True)"
   ]
  },
  {
   "cell_type": "code",
   "execution_count": 5,
   "metadata": {},
   "outputs": [
    {
     "name": "stdout",
     "output_type": "stream",
     "text": [
      "torch.Size([60000, 28, 28])\n",
      "torch.Size([10000, 28, 28])\n"
     ]
    }
   ],
   "source": [
    "print(train_ds.data.shape)   #no of images in training dataset and size of each image\n",
    "print(test_ds.data.shape)    #no of images in testing dataset and size of each image"
   ]
  },
  {
   "cell_type": "code",
   "execution_count": 6,
   "metadata": {},
   "outputs": [
    {
     "name": "stdout",
     "output_type": "stream",
     "text": [
      "tensor([[  0,   0,   0,   0,   0,   0,   0,   0,   0,   0,   0,   0,   0,   0,\n",
      "           0,   0,   0,   0,   0,   0,   0,   0,   0,   0,   0,   0,   0,   0],\n",
      "        [  0,   0,   0,   0,   0,   0,   0,   0,   0,   0,   0,   0,   0,   0,\n",
      "           0,   0,   0,   0,   0,   0,   0,   0,   0,   0,   0,   0,   0,   0],\n",
      "        [  0,   0,   0,   0,   0,   0,   0,   0,   0,   0,   0,   0,   0,   0,\n",
      "           0,   0,   0,   0,   0,   0,   0,   0,   0,   0,   0,   0,   0,   0],\n",
      "        [  0,   0,   0,   0,   0,   0,   0,   0,   0,   0,   0,   0,   0,   0,\n",
      "           0,   0,   0,   0,   0,   0,   0,   0,   0,   0,   0,   0,   0,   0],\n",
      "        [  0,   0,   0,   0,   0,   0,   0,   0,   0,   0,   0,   0,   0,   0,\n",
      "           0,   0,   0,   0,   0,   0,   0,   0,   0,   0,   0,   0,   0,   0],\n",
      "        [  0,   0,   0,   0,   0,   0,   0,   0,   0,   0,   0,   0,   3,  18,\n",
      "          18,  18, 126, 136, 175,  26, 166, 255, 247, 127,   0,   0,   0,   0],\n",
      "        [  0,   0,   0,   0,   0,   0,   0,   0,  30,  36,  94, 154, 170, 253,\n",
      "         253, 253, 253, 253, 225, 172, 253, 242, 195,  64,   0,   0,   0,   0],\n",
      "        [  0,   0,   0,   0,   0,   0,   0,  49, 238, 253, 253, 253, 253, 253,\n",
      "         253, 253, 253, 251,  93,  82,  82,  56,  39,   0,   0,   0,   0,   0],\n",
      "        [  0,   0,   0,   0,   0,   0,   0,  18, 219, 253, 253, 253, 253, 253,\n",
      "         198, 182, 247, 241,   0,   0,   0,   0,   0,   0,   0,   0,   0,   0],\n",
      "        [  0,   0,   0,   0,   0,   0,   0,   0,  80, 156, 107, 253, 253, 205,\n",
      "          11,   0,  43, 154,   0,   0,   0,   0,   0,   0,   0,   0,   0,   0],\n",
      "        [  0,   0,   0,   0,   0,   0,   0,   0,   0,  14,   1, 154, 253,  90,\n",
      "           0,   0,   0,   0,   0,   0,   0,   0,   0,   0,   0,   0,   0,   0],\n",
      "        [  0,   0,   0,   0,   0,   0,   0,   0,   0,   0,   0, 139, 253, 190,\n",
      "           2,   0,   0,   0,   0,   0,   0,   0,   0,   0,   0,   0,   0,   0],\n",
      "        [  0,   0,   0,   0,   0,   0,   0,   0,   0,   0,   0,  11, 190, 253,\n",
      "          70,   0,   0,   0,   0,   0,   0,   0,   0,   0,   0,   0,   0,   0],\n",
      "        [  0,   0,   0,   0,   0,   0,   0,   0,   0,   0,   0,   0,  35, 241,\n",
      "         225, 160, 108,   1,   0,   0,   0,   0,   0,   0,   0,   0,   0,   0],\n",
      "        [  0,   0,   0,   0,   0,   0,   0,   0,   0,   0,   0,   0,   0,  81,\n",
      "         240, 253, 253, 119,  25,   0,   0,   0,   0,   0,   0,   0,   0,   0],\n",
      "        [  0,   0,   0,   0,   0,   0,   0,   0,   0,   0,   0,   0,   0,   0,\n",
      "          45, 186, 253, 253, 150,  27,   0,   0,   0,   0,   0,   0,   0,   0],\n",
      "        [  0,   0,   0,   0,   0,   0,   0,   0,   0,   0,   0,   0,   0,   0,\n",
      "           0,  16,  93, 252, 253, 187,   0,   0,   0,   0,   0,   0,   0,   0],\n",
      "        [  0,   0,   0,   0,   0,   0,   0,   0,   0,   0,   0,   0,   0,   0,\n",
      "           0,   0,   0, 249, 253, 249,  64,   0,   0,   0,   0,   0,   0,   0],\n",
      "        [  0,   0,   0,   0,   0,   0,   0,   0,   0,   0,   0,   0,   0,   0,\n",
      "          46, 130, 183, 253, 253, 207,   2,   0,   0,   0,   0,   0,   0,   0],\n",
      "        [  0,   0,   0,   0,   0,   0,   0,   0,   0,   0,   0,   0,  39, 148,\n",
      "         229, 253, 253, 253, 250, 182,   0,   0,   0,   0,   0,   0,   0,   0],\n",
      "        [  0,   0,   0,   0,   0,   0,   0,   0,   0,   0,  24, 114, 221, 253,\n",
      "         253, 253, 253, 201,  78,   0,   0,   0,   0,   0,   0,   0,   0,   0],\n",
      "        [  0,   0,   0,   0,   0,   0,   0,   0,  23,  66, 213, 253, 253, 253,\n",
      "         253, 198,  81,   2,   0,   0,   0,   0,   0,   0,   0,   0,   0,   0],\n",
      "        [  0,   0,   0,   0,   0,   0,  18, 171, 219, 253, 253, 253, 253, 195,\n",
      "          80,   9,   0,   0,   0,   0,   0,   0,   0,   0,   0,   0,   0,   0],\n",
      "        [  0,   0,   0,   0,  55, 172, 226, 253, 253, 253, 253, 244, 133,  11,\n",
      "           0,   0,   0,   0,   0,   0,   0,   0,   0,   0,   0,   0,   0,   0],\n",
      "        [  0,   0,   0,   0, 136, 253, 253, 253, 212, 135, 132,  16,   0,   0,\n",
      "           0,   0,   0,   0,   0,   0,   0,   0,   0,   0,   0,   0,   0,   0],\n",
      "        [  0,   0,   0,   0,   0,   0,   0,   0,   0,   0,   0,   0,   0,   0,\n",
      "           0,   0,   0,   0,   0,   0,   0,   0,   0,   0,   0,   0,   0,   0],\n",
      "        [  0,   0,   0,   0,   0,   0,   0,   0,   0,   0,   0,   0,   0,   0,\n",
      "           0,   0,   0,   0,   0,   0,   0,   0,   0,   0,   0,   0,   0,   0],\n",
      "        [  0,   0,   0,   0,   0,   0,   0,   0,   0,   0,   0,   0,   0,   0,\n",
      "           0,   0,   0,   0,   0,   0,   0,   0,   0,   0,   0,   0,   0,   0]],\n",
      "       dtype=torch.uint8)\n"
     ]
    }
   ],
   "source": [
    "print(train_ds.data[0])   #not normalized btw -1 and 1"
   ]
  },
  {
   "attachments": {},
   "cell_type": "markdown",
   "metadata": {},
   "source": [
    "### functions to display images ###"
   ]
  },
  {
   "cell_type": "code",
   "execution_count": 7,
   "metadata": {},
   "outputs": [],
   "source": [
    "import cv2\n",
    "import matplotlib.pyplot as plt\n",
    "import numpy as np\n",
    "def img_show(title = '',image = None, size = 2):\n",
    "    w, h = image.shape[0], image.shape[1]\n",
    "    aspect_ratio = w/h\n",
    "    plt.figure(figsize=(aspect_ratio*size,size))\n",
    "    plt.imshow(cv2.cvtColor(image,cv2.COLOR_BGR2RGB))\n",
    "    plt.title = title\n",
    "    plt.show()"
   ]
  },
  {
   "cell_type": "code",
   "execution_count": 8,
   "metadata": {},
   "outputs": [
    {
     "data": {
      "image/png": "[encoded data removed]",
      "text/plain": [
       "<Figure size 200x200 with 1 Axes>"
      ]
     },
     "metadata": {},
     "output_type": "display_data"
    }
   ],
   "source": [
    "img_show('mnist',train_ds.data[2].numpy())"
   ]
  },
  {
   "attachments": {},
   "cell_type": "markdown",
   "metadata": {},
   "source": [
    "###   displaying first 50 images ###"
   ]
  },
  {
   "cell_type": "code",
   "execution_count": 9,
   "metadata": {},
   "outputs": [
    {
     "data": {
      "image/png": "[encoded data removed]",
      "text/plain": [
       "<Figure size 640x480 with 50 Axes>"
      ]
     },
     "metadata": {},
     "output_type": "display_data"
    }
   ],
   "source": [
    "import matplotlib.pyplot as plt\n",
    "\n",
    "fig = plt.figure()\n",
    "no_images = 50 \n",
    "\n",
    "for i in range(1, no_images + 1):\n",
    "    plt.subplot(5, 10, i)\n",
    "    plt.axis('off')\n",
    "    plt.imshow(train_ds.data[i], cmap='gray_r')"
   ]
  },
  {
   "attachments": {},
   "cell_type": "markdown",
   "metadata": {},
   "source": [
    "***DATA LOADER***\n",
    "\n",
    "**these are used to set our data in specified batch size**"
   ]
  },
  {
   "cell_type": "code",
   "execution_count": 10,
   "metadata": {},
   "outputs": [],
   "source": [
    "train_loader = torch.utils.data.DataLoader(train_ds,batch_size = 128,shuffle = True,num_workers = 0)\n",
    "test_loader = torch.utils.data.DataLoader(test_ds,batch_size=128,shuffle=True,num_workers=0)"
   ]
  },
  {
   "attachments": {},
   "cell_type": "markdown",
   "metadata": {},
   "source": [
    "***LOADING BATCHES***"
   ]
  },
  {
   "cell_type": "code",
   "execution_count": 11,
   "metadata": {},
   "outputs": [
    {
     "data": {
      "text/plain": [
       "'train_iter = iter(train_loader)\\nimages,labels = next(train_iter)\\nprint(images.shape)\\nprint(labels.shape)'"
      ]
     },
     "execution_count": 11,
     "metadata": {},
     "output_type": "execute_result"
    }
   ],
   "source": [
    "\"\"\"train_iter = iter(train_loader)\n",
    "images,labels = next(train_iter)\n",
    "print(images.shape)\n",
    "print(labels.shape)\"\"\" "
   ]
  },
  {
   "attachments": {},
   "cell_type": "markdown",
   "metadata": {},
   "source": [
    "### ***MODEL BUILDING*** ###\n",
    "**using nn.Sequential() method for building model**"
   ]
  },
  {
   "cell_type": "code",
   "execution_count": 18,
   "metadata": {},
   "outputs": [
    {
     "data": {
      "text/plain": [
       "Net(\n",
       "  (conv1): Conv2d(1, 32, kernel_size=(3, 3), stride=(1, 1))\n",
       "  (conv2): Conv2d(32, 64, kernel_size=(3, 3), stride=(1, 1))\n",
       "  (maxpool): MaxPool2d(kernel_size=2, stride=2, padding=0, dilation=1, ceil_mode=False)\n",
       "  (full1): Linear(in_features=9216, out_features=128, bias=True)\n",
       "  (full2): Linear(in_features=128, out_features=10, bias=True)\n",
       ")"
      ]
     },
     "execution_count": 18,
     "metadata": {},
     "output_type": "execute_result"
    }
   ],
   "source": [
    "import torch.nn.functional as F\n",
    "\n",
    "class Net(nn.Module):\n",
    "    def __init__(self):\n",
    "        super(Net,self).__init__()\n",
    "\n",
    "        self.conv1 = nn.Conv2d(1,32,3)\n",
    "        self.conv2 = nn.Conv2d(32,64,3)\n",
    "        self.maxpool = nn.MaxPool2d(2,2)\n",
    "        self.full1 = nn.Linear(64*12*12,128)\n",
    "        self.full2 = nn.Linear(128,10)\n",
    "\n",
    "    def forward(self,x):\n",
    "        x = F.relu(self.conv1(x))\n",
    "        x = F.relu(self.conv2(x))\n",
    "        x = self.maxpool(x)\n",
    "        x = x.view(-1,64*12*12)\n",
    "        x = F.relu(self.full1(x))\n",
    "        x = self.full2(x)\n",
    "        return x\n",
    "    \n",
    "net = Net()\n",
    "net.to(device)\n"
   ]
  },
  {
   "cell_type": "code",
   "execution_count": 19,
   "metadata": {},
   "outputs": [],
   "source": [
    "criterion = nn.CrossEntropyLoss()\n",
    "optimizer = optim.SGD(net.parameters(),lr = 0.001,momentum=0.9)"
   ]
  },
  {
   "cell_type": "code",
   "execution_count": 20,
   "metadata": {},
   "outputs": [
    {
     "name": "stdout",
     "output_type": "stream",
     "text": [
      "starting epoch:1\n",
      "Epoch: 1, Mini-Batches Completed: 50, Loss: 2.254, Test Accuracy = 48.620%\n",
      "Epoch: 1, Mini-Batches Completed: 100, Loss: 2.053, Test Accuracy = 68.180%\n",
      "Epoch: 1, Mini-Batches Completed: 150, Loss: 1.519, Test Accuracy = 79.960%\n",
      "Epoch: 1, Mini-Batches Completed: 200, Loss: 0.830, Test Accuracy = 84.040%\n",
      "Epoch: 1, Mini-Batches Completed: 250, Loss: 0.571, Test Accuracy = 86.100%\n",
      "Epoch: 1, Mini-Batches Completed: 300, Loss: 0.477, Test Accuracy = 88.510%\n",
      "Epoch: 1, Mini-Batches Completed: 350, Loss: 0.405, Test Accuracy = 89.380%\n",
      "Epoch: 1, Mini-Batches Completed: 400, Loss: 0.402, Test Accuracy = 90.310%\n",
      "Epoch: 1, Mini-Batches Completed: 450, Loss: 0.366, Test Accuracy = 90.760%\n",
      "starting epoch:2\n",
      "Epoch: 2, Mini-Batches Completed: 50, Loss: 0.333, Test Accuracy = 90.650%\n",
      "Epoch: 2, Mini-Batches Completed: 100, Loss: 0.331, Test Accuracy = 91.200%\n",
      "Epoch: 2, Mini-Batches Completed: 150, Loss: 0.333, Test Accuracy = 91.810%\n",
      "Epoch: 2, Mini-Batches Completed: 200, Loss: 0.304, Test Accuracy = 92.150%\n",
      "Epoch: 2, Mini-Batches Completed: 250, Loss: 0.277, Test Accuracy = 91.910%\n",
      "Epoch: 2, Mini-Batches Completed: 300, Loss: 0.279, Test Accuracy = 92.870%\n",
      "Epoch: 2, Mini-Batches Completed: 350, Loss: 0.272, Test Accuracy = 92.620%\n",
      "Epoch: 2, Mini-Batches Completed: 400, Loss: 0.262, Test Accuracy = 93.240%\n",
      "Epoch: 2, Mini-Batches Completed: 450, Loss: 0.254, Test Accuracy = 93.020%\n",
      "starting epoch:3\n",
      "Epoch: 3, Mini-Batches Completed: 50, Loss: 0.251, Test Accuracy = 93.690%\n",
      "Epoch: 3, Mini-Batches Completed: 100, Loss: 0.253, Test Accuracy = 93.640%\n",
      "Epoch: 3, Mini-Batches Completed: 150, Loss: 0.219, Test Accuracy = 94.110%\n",
      "Epoch: 3, Mini-Batches Completed: 200, Loss: 0.210, Test Accuracy = 94.010%\n",
      "Epoch: 3, Mini-Batches Completed: 250, Loss: 0.232, Test Accuracy = 94.190%\n",
      "Epoch: 3, Mini-Batches Completed: 300, Loss: 0.196, Test Accuracy = 94.380%\n",
      "Epoch: 3, Mini-Batches Completed: 350, Loss: 0.213, Test Accuracy = 94.980%\n",
      "Epoch: 3, Mini-Batches Completed: 400, Loss: 0.190, Test Accuracy = 94.960%\n",
      "Epoch: 3, Mini-Batches Completed: 450, Loss: 0.186, Test Accuracy = 94.790%\n",
      "starting epoch:4\n",
      "Epoch: 4, Mini-Batches Completed: 50, Loss: 0.194, Test Accuracy = 94.700%\n",
      "Epoch: 4, Mini-Batches Completed: 100, Loss: 0.184, Test Accuracy = 94.930%\n",
      "Epoch: 4, Mini-Batches Completed: 150, Loss: 0.172, Test Accuracy = 95.010%\n",
      "Epoch: 4, Mini-Batches Completed: 200, Loss: 0.163, Test Accuracy = 95.570%\n",
      "Epoch: 4, Mini-Batches Completed: 250, Loss: 0.169, Test Accuracy = 95.360%\n",
      "Epoch: 4, Mini-Batches Completed: 300, Loss: 0.154, Test Accuracy = 95.730%\n",
      "Epoch: 4, Mini-Batches Completed: 350, Loss: 0.161, Test Accuracy = 95.670%\n",
      "Epoch: 4, Mini-Batches Completed: 400, Loss: 0.170, Test Accuracy = 96.030%\n",
      "Epoch: 4, Mini-Batches Completed: 450, Loss: 0.143, Test Accuracy = 96.030%\n",
      "starting epoch:5\n",
      "Epoch: 5, Mini-Batches Completed: 50, Loss: 0.150, Test Accuracy = 95.850%\n",
      "Epoch: 5, Mini-Batches Completed: 100, Loss: 0.135, Test Accuracy = 96.120%\n",
      "Epoch: 5, Mini-Batches Completed: 150, Loss: 0.134, Test Accuracy = 96.500%\n",
      "Epoch: 5, Mini-Batches Completed: 200, Loss: 0.127, Test Accuracy = 96.270%\n",
      "Epoch: 5, Mini-Batches Completed: 250, Loss: 0.126, Test Accuracy = 96.440%\n",
      "Epoch: 5, Mini-Batches Completed: 300, Loss: 0.133, Test Accuracy = 96.410%\n",
      "Epoch: 5, Mini-Batches Completed: 350, Loss: 0.131, Test Accuracy = 96.500%\n",
      "Epoch: 5, Mini-Batches Completed: 400, Loss: 0.119, Test Accuracy = 96.600%\n",
      "Epoch: 5, Mini-Batches Completed: 450, Loss: 0.125, Test Accuracy = 96.530%\n",
      "starting epoch:6\n",
      "Epoch: 6, Mini-Batches Completed: 50, Loss: 0.098, Test Accuracy = 96.720%\n",
      "Epoch: 6, Mini-Batches Completed: 100, Loss: 0.110, Test Accuracy = 96.810%\n",
      "Epoch: 6, Mini-Batches Completed: 150, Loss: 0.116, Test Accuracy = 96.920%\n",
      "Epoch: 6, Mini-Batches Completed: 200, Loss: 0.108, Test Accuracy = 97.010%\n",
      "Epoch: 6, Mini-Batches Completed: 250, Loss: 0.113, Test Accuracy = 96.860%\n",
      "Epoch: 6, Mini-Batches Completed: 300, Loss: 0.115, Test Accuracy = 96.870%\n",
      "Epoch: 6, Mini-Batches Completed: 350, Loss: 0.112, Test Accuracy = 97.130%\n",
      "Epoch: 6, Mini-Batches Completed: 400, Loss: 0.100, Test Accuracy = 96.870%\n",
      "Epoch: 6, Mini-Batches Completed: 450, Loss: 0.105, Test Accuracy = 97.220%\n",
      "starting epoch:7\n",
      "Epoch: 7, Mini-Batches Completed: 50, Loss: 0.099, Test Accuracy = 97.340%\n",
      "Epoch: 7, Mini-Batches Completed: 100, Loss: 0.098, Test Accuracy = 97.140%\n",
      "Epoch: 7, Mini-Batches Completed: 150, Loss: 0.098, Test Accuracy = 97.350%\n",
      "Epoch: 7, Mini-Batches Completed: 200, Loss: 0.098, Test Accuracy = 97.270%\n",
      "Epoch: 7, Mini-Batches Completed: 250, Loss: 0.091, Test Accuracy = 97.360%\n",
      "Epoch: 7, Mini-Batches Completed: 300, Loss: 0.079, Test Accuracy = 97.470%\n",
      "Epoch: 7, Mini-Batches Completed: 350, Loss: 0.093, Test Accuracy = 97.390%\n",
      "Epoch: 7, Mini-Batches Completed: 400, Loss: 0.088, Test Accuracy = 97.630%\n",
      "Epoch: 7, Mini-Batches Completed: 450, Loss: 0.089, Test Accuracy = 97.540%\n",
      "starting epoch:8\n",
      "Epoch: 8, Mini-Batches Completed: 50, Loss: 0.093, Test Accuracy = 97.580%\n",
      "Epoch: 8, Mini-Batches Completed: 100, Loss: 0.081, Test Accuracy = 97.700%\n",
      "Epoch: 8, Mini-Batches Completed: 150, Loss: 0.081, Test Accuracy = 97.100%\n",
      "Epoch: 8, Mini-Batches Completed: 200, Loss: 0.078, Test Accuracy = 97.610%\n",
      "Epoch: 8, Mini-Batches Completed: 250, Loss: 0.079, Test Accuracy = 97.580%\n",
      "Epoch: 8, Mini-Batches Completed: 300, Loss: 0.080, Test Accuracy = 97.760%\n",
      "Epoch: 8, Mini-Batches Completed: 350, Loss: 0.082, Test Accuracy = 97.550%\n",
      "Epoch: 8, Mini-Batches Completed: 400, Loss: 0.082, Test Accuracy = 97.710%\n",
      "Epoch: 8, Mini-Batches Completed: 450, Loss: 0.082, Test Accuracy = 97.480%\n",
      "starting epoch:9\n",
      "Epoch: 9, Mini-Batches Completed: 50, Loss: 0.071, Test Accuracy = 97.760%\n",
      "Epoch: 9, Mini-Batches Completed: 100, Loss: 0.071, Test Accuracy = 97.720%\n",
      "Epoch: 9, Mini-Batches Completed: 150, Loss: 0.071, Test Accuracy = 97.700%\n",
      "Epoch: 9, Mini-Batches Completed: 200, Loss: 0.078, Test Accuracy = 97.770%\n",
      "Epoch: 9, Mini-Batches Completed: 250, Loss: 0.074, Test Accuracy = 97.920%\n",
      "Epoch: 9, Mini-Batches Completed: 300, Loss: 0.070, Test Accuracy = 97.630%\n",
      "Epoch: 9, Mini-Batches Completed: 350, Loss: 0.073, Test Accuracy = 97.750%\n",
      "Epoch: 9, Mini-Batches Completed: 400, Loss: 0.069, Test Accuracy = 97.990%\n",
      "Epoch: 9, Mini-Batches Completed: 450, Loss: 0.074, Test Accuracy = 97.770%\n",
      "starting epoch:10\n",
      "Epoch: 10, Mini-Batches Completed: 50, Loss: 0.069, Test Accuracy = 97.910%\n",
      "Epoch: 10, Mini-Batches Completed: 100, Loss: 0.067, Test Accuracy = 98.060%\n",
      "Epoch: 10, Mini-Batches Completed: 150, Loss: 0.061, Test Accuracy = 97.950%\n",
      "Epoch: 10, Mini-Batches Completed: 200, Loss: 0.064, Test Accuracy = 97.890%\n",
      "Epoch: 10, Mini-Batches Completed: 250, Loss: 0.066, Test Accuracy = 97.970%\n",
      "Epoch: 10, Mini-Batches Completed: 300, Loss: 0.061, Test Accuracy = 97.920%\n",
      "Epoch: 10, Mini-Batches Completed: 350, Loss: 0.070, Test Accuracy = 98.000%\n",
      "Epoch: 10, Mini-Batches Completed: 400, Loss: 0.070, Test Accuracy = 97.900%\n",
      "Epoch: 10, Mini-Batches Completed: 450, Loss: 0.065, Test Accuracy = 98.100%\n",
      "Finished Training\n"
     ]
    }
   ],
   "source": [
    "epochs = 10\n",
    "\n",
    "for epoch in range(epochs):\n",
    "    print(f'starting epoch:{epoch+1}')\n",
    "      \n",
    "    epoch_log = []\n",
    "    accuracy_log = []\n",
    "    loss_log = []\n",
    "\n",
    "    running_loss = 0.0\n",
    "    for i,data in enumerate(train_loader,0):\n",
    "        inputs , labels = data\n",
    "\n",
    "        inputs = inputs.to(device)\n",
    "        labels = labels.to(device)\n",
    "\n",
    "        optimizer.zero_grad()\n",
    "\n",
    "        outputs = net(inputs)\n",
    "        loss = criterion(outputs,labels)\n",
    "        loss.backward()\n",
    "        optimizer.step()\n",
    "\n",
    "        running_loss += loss.item()\n",
    "\n",
    "        if i % 50 == 49:\n",
    "            correct = 0\n",
    "            total = 0\n",
    "\n",
    "            with torch.no_grad():\n",
    "                for images,labels in test_loader:\n",
    "                    images = images.to(device)\n",
    "                    labels = labels.to(device)\n",
    "                    outputs = net(images)\n",
    "                    _, predicted = torch.max(outputs.data, dim = 1)\n",
    "                    total += labels.size(0)\n",
    "                    correct += (predicted == labels).sum().item()\n",
    "\n",
    "                accuracy  = 100*correct/total\n",
    "                epoch_no = epoch+1\n",
    "                actual_loss = running_loss / 50\n",
    "                print(f'Epoch: {epoch_no}, Mini-Batches Completed: {(i+1)}, Loss: {actual_loss:.3f}, Test Accuracy = {accuracy:.3f}%')\n",
    "                running_loss = 0.0\n",
    "    epoch_log.append(epoch_no)\n",
    "    loss_log.append(actual_loss)\n",
    "    accuracy_log.append(accuracy)\n",
    "\n",
    "print('Finished Training')"
   ]
  },
  {
   "cell_type": "code",
   "execution_count": null,
   "metadata": {},
   "outputs": [],
   "source": []
  },
  {
   "cell_type": "code",
   "execution_count": null,
   "metadata": {},
   "outputs": [],
   "source": []
  }
 ],
 "metadata": {
  "kernelspec": {
   "display_name": "pytorch",
   "language": "python",
   "name": "python3"
  },
  "language_info": {
   "codemirror_mode": {
    "name": "ipython",
    "version": 3
   },
   "file_extension": ".py",
   "mimetype": "text/x-python",
   "name": "python",
   "nbconvert_exporter": "python",
   "pygments_lexer": "ipython3",
   "version": "3.9.16"
  },
  "orig_nbformat": 4
 },
 "nbformat": 4,
 "nbformat_minor": 2
}
